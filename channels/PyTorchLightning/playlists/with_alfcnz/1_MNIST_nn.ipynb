{
  "nbformat": 4,
  "nbformat_minor": 0,
  "metadata": {
    "colab": {
      "provenance": [],
      "gpuType": "T4"
    },
    "kernelspec": {
      "name": "python3",
      "display_name": "Python 3"
    },
    "language_info": {
      "name": "python"
    },
    "accelerator": "GPU"
  },
  "cells": [
    {
      "cell_type": "markdown",
      "source": [
        "This notebook elaborates on\n",
        "[this YouTube video clip](https://www.youtube.com/watch?v=OMDn66kM9Qc\n",
        "),\n",
        "where Alfredo Canziani introduced the audience to PyTorch (before the transition to PyTorch Lightning)."
      ],
      "metadata": {
        "id": "1XjBwNTHvXnk"
      }
    },
    {
      "cell_type": "markdown",
      "source": [
        "## Packages and Their Configurations"
      ],
      "metadata": {
        "id": "KNiME7lyoLCd"
      }
    },
    {
      "cell_type": "code",
      "source": [
        "!pip list | grep torch"
      ],
      "metadata": {
        "colab": {
          "base_uri": "https://localhost:8080/"
        },
        "id": "RsXTjSSnn9nl",
        "outputId": "6c16a1ee-969a-4a25-e320-830ccb473454"
      },
      "execution_count": 1,
      "outputs": [
        {
          "output_type": "stream",
          "name": "stdout",
          "text": [
            "torch                            2.1.0+cu118\n",
            "torchaudio                       2.1.0+cu118\n",
            "torchdata                        0.7.0\n",
            "torchsummary                     1.5.1\n",
            "torchtext                        0.16.0\n",
            "torchvision                      0.16.0+cu118\n"
          ]
        }
      ]
    },
    {
      "cell_type": "code",
      "source": [
        "# !pip install -qqq ipdb"
      ],
      "metadata": {
        "id": "SsSWQUikxhoV"
      },
      "execution_count": 2,
      "outputs": []
    },
    {
      "cell_type": "code",
      "execution_count": 3,
      "metadata": {
        "id": "zoNrCktFAOcO"
      },
      "outputs": [],
      "source": [
        "# import ipdb\n",
        "import pdb\n",
        "import matplotlib.pyplot as plt\n",
        "import torch\n",
        "import torchvision\n",
        "from torch import nn\n",
        "from torch.nn import functional as F\n",
        "from torch.utils.data import random_split, DataLoader"
      ]
    },
    {
      "cell_type": "code",
      "source": [
        "plt.style.use(\"dark_background\")"
      ],
      "metadata": {
        "id": "zTcImXeAn8u0"
      },
      "execution_count": 4,
      "outputs": []
    },
    {
      "cell_type": "markdown",
      "source": [
        "## Model"
      ],
      "metadata": {
        "id": "k-Xd954UoPCs"
      }
    },
    {
      "cell_type": "code",
      "source": [
        "# device = torch.device(\"cpu\")\n",
        "\n",
        "device = torch.device(\n",
        "    \"cuda\" if torch.cuda.is_available() else \"cpu\")\n",
        "\n",
        "device"
      ],
      "metadata": {
        "colab": {
          "base_uri": "https://localhost:8080/"
        },
        "id": "IqTdxvA2s1Pn",
        "outputId": "3b3dba54-7c1b-4a3b-8737-4bb168c04b6c"
      },
      "execution_count": 27,
      "outputs": [
        {
          "output_type": "execute_result",
          "data": {
            "text/plain": [
              "device(type='cuda')"
            ]
          },
          "metadata": {},
          "execution_count": 27
        }
      ]
    },
    {
      "cell_type": "code",
      "source": [
        "def instantiate_our_simple_model(*, num_intermediate_neurons=64, dropout_proba=0.0):\n",
        "    \"\"\"\n",
        "    A simple multi-layer perceptron model\n",
        "    \"\"\"\n",
        "    return nn.Sequential(\n",
        "        nn.Linear(28*28, num_intermediate_neurons),\n",
        "        nn.ReLU(),\n",
        "        nn.Linear(num_intermediate_neurons, num_intermediate_neurons),\n",
        "        nn.ReLU(),\n",
        "        nn.Dropout(dropout_proba),\n",
        "        nn.Linear(num_intermediate_neurons, 10),\n",
        "    )"
      ],
      "metadata": {
        "id": "uVHbW5cQoSLC"
      },
      "execution_count": 28,
      "outputs": []
    },
    {
      "cell_type": "code",
      "source": [
        "class ResNet(nn.Module):\n",
        "    def __init__(self, *, num_intermediate_neurons=64, dropout_proba=0.0):\n",
        "        super().__init__()\n",
        "        self.h1 = nn.Linear(28*28, num_intermediate_neurons)\n",
        "        self.h2 = nn.Linear(num_intermediate_neurons, num_intermediate_neurons)\n",
        "        self.h3 = nn.Linear(num_intermediate_neurons, 10)\n",
        "        self.dropout = nn.Dropout(dropout_proba)\n",
        "\n",
        "    def forward(self, x):\n",
        "        h1 = self.h1(x)\n",
        "        a1 = F.relu(h1)\n",
        "        h2 = self.h2(a1)\n",
        "        a2 = F.relu(h2)\n",
        "        d2 = self.dropout(a1 + a2)\n",
        "        logits = self.h3(d2)\n",
        "        return logits"
      ],
      "metadata": {
        "id": "GCTWRtxLRDbn"
      },
      "execution_count": 29,
      "outputs": []
    },
    {
      "cell_type": "markdown",
      "source": [
        "Try to play with the following **diff choices** of models."
      ],
      "metadata": {
        "id": "kgedpkfWbxHN"
      }
    },
    {
      "cell_type": "code",
      "source": [
        "# model = instantiate_our_simple_model()\n",
        "\n",
        "# A large enough model to notice the diff btw GPU and CPU training\n",
        "#model = instantiate_our_simple_model(num_intermediate_neurons=5_000)\n",
        "#model = instantiate_our_simple_model(num_intermediate_neurons=5_000, dropout_proba=0.1)\n",
        "\n",
        "#model = instantiate_our_simple_model(dropout_proba=0.1)\n",
        "model = ResNet(dropout_proba=0.1)\n",
        "\n",
        "model.to(device)\n",
        "print(model)"
      ],
      "metadata": {
        "colab": {
          "base_uri": "https://localhost:8080/"
        },
        "id": "RQJr0YqxQk_d",
        "outputId": "8fde4f9f-93b9-4e3c-deb6-a246c4164327"
      },
      "execution_count": 30,
      "outputs": [
        {
          "output_type": "stream",
          "name": "stdout",
          "text": [
            "ResNet(\n",
            "  (h1): Linear(in_features=784, out_features=64, bias=True)\n",
            "  (h2): Linear(in_features=64, out_features=64, bias=True)\n",
            "  (h3): Linear(in_features=64, out_features=10, bias=True)\n",
            "  (dropout): Dropout(p=0.1, inplace=False)\n",
            ")\n"
          ]
        }
      ]
    },
    {
      "cell_type": "markdown",
      "source": [
        "Let's check if the model has successfully been moved to the right device:"
      ],
      "metadata": {
        "id": "TXe_pJzD1Si7"
      }
    },
    {
      "cell_type": "code",
      "source": [
        "type(model.parameters())"
      ],
      "metadata": {
        "colab": {
          "base_uri": "https://localhost:8080/"
        },
        "id": "iWSR99ir00YI",
        "outputId": "2c77cb9e-edd8-4f68-aac4-bc471b5877e2"
      },
      "execution_count": 31,
      "outputs": [
        {
          "output_type": "execute_result",
          "data": {
            "text/plain": [
              "generator"
            ]
          },
          "metadata": {},
          "execution_count": 31
        }
      ]
    },
    {
      "cell_type": "code",
      "source": [
        "next(model.parameters()).device"
      ],
      "metadata": {
        "colab": {
          "base_uri": "https://localhost:8080/"
        },
        "id": "knDF0l6H1OvG",
        "outputId": "e7637227-ddb4-41be-91d1-8bba21dc2ae4"
      },
      "execution_count": 32,
      "outputs": [
        {
          "output_type": "execute_result",
          "data": {
            "text/plain": [
              "device(type='cuda', index=0)"
            ]
          },
          "metadata": {},
          "execution_count": 32
        }
      ]
    },
    {
      "cell_type": "markdown",
      "source": [
        "**Rmk.**  \n",
        "Note that `model.to(device)` is an **in-place** method of `nn.Module`. Indeed, it moves the entire model to `device` whereas `torch.Tensor.to` is **not in-place**.\n",
        "\n",
        "The following two cells try to illustrate this when `device` equals CUDA."
      ],
      "metadata": {
        "id": "EjO_fzwo2CK_"
      }
    },
    {
      "cell_type": "code",
      "source": [
        "t = torch.Tensor([1.,2.])\n",
        "t.to(device)\n",
        "t.device"
      ],
      "metadata": {
        "colab": {
          "base_uri": "https://localhost:8080/"
        },
        "id": "UE4MYSvz1fCI",
        "outputId": "b51d407c-696e-48e0-a33a-7af424d1a501"
      },
      "execution_count": 33,
      "outputs": [
        {
          "output_type": "execute_result",
          "data": {
            "text/plain": [
              "device(type='cpu')"
            ]
          },
          "metadata": {},
          "execution_count": 33
        }
      ]
    },
    {
      "cell_type": "code",
      "source": [
        "t = torch.Tensor([1.,2.])\n",
        "t = t.to(device)\n",
        "t.device"
      ],
      "metadata": {
        "colab": {
          "base_uri": "https://localhost:8080/"
        },
        "id": "kg04XgWC14JV",
        "outputId": "5e29406d-cee1-4c74-99af-cf97c1795526"
      },
      "execution_count": 34,
      "outputs": [
        {
          "output_type": "execute_result",
          "data": {
            "text/plain": [
              "device(type='cuda', index=0)"
            ]
          },
          "metadata": {},
          "execution_count": 34
        }
      ]
    },
    {
      "cell_type": "markdown",
      "source": [
        "## Optimiser"
      ],
      "metadata": {
        "id": "K9UdQHSdcYIj"
      }
    },
    {
      "cell_type": "code",
      "source": [
        "from torch import optim"
      ],
      "metadata": {
        "id": "v1UlGvEScVMs"
      },
      "execution_count": 35,
      "outputs": []
    },
    {
      "cell_type": "code",
      "source": [
        "optimiser = optim.SGD(model.parameters(), lr=1e-2)"
      ],
      "metadata": {
        "id": "7A4ANgnCcuyl"
      },
      "execution_count": 36,
      "outputs": []
    },
    {
      "cell_type": "markdown",
      "source": [
        "## Loss/Objective Function"
      ],
      "metadata": {
        "id": "b8FKND8JdEtl"
      }
    },
    {
      "cell_type": "code",
      "source": [
        "loss = nn.CrossEntropyLoss()"
      ],
      "metadata": {
        "id": "0DeEtS1TdGc7"
      },
      "execution_count": 37,
      "outputs": []
    },
    {
      "cell_type": "markdown",
      "source": [
        "## Data"
      ],
      "metadata": {
        "id": "JrWTxJ0GoYyS"
      }
    },
    {
      "cell_type": "code",
      "source": [
        "dataset = torchvision.datasets.MNIST(\n",
        "    \"data\",\n",
        "    train=True,\n",
        "    transform=torchvision.transforms.ToTensor(),\n",
        "    download=True,\n",
        ")\n",
        "num_val = int(len(dataset)*0.1)\n",
        "num_train = len(dataset) - num_val\n",
        "\n",
        "# For reproducibility\n",
        "rng_generator = torch.Generator().manual_seed(42)\n",
        "\n",
        "train, val = random_split(\n",
        "    dataset,\n",
        "    lengths=[num_train, num_val],\n",
        "    generator=rng_generator,\n",
        ")\n",
        "batch_size = 32\n",
        "\n",
        "num_workers = 2\n",
        "train_loader = DataLoader(\n",
        "    train, batch_size=batch_size,\n",
        "    num_workers=num_workers,\n",
        "    pin_memory=True,\n",
        ")\n",
        "val_loader = DataLoader(\n",
        "    val, batch_size=batch_size,\n",
        "    num_workers=num_workers,\n",
        "    pin_memory=True,\n",
        ")"
      ],
      "metadata": {
        "id": "ZBxdg0bloZyt"
      },
      "execution_count": 38,
      "outputs": []
    },
    {
      "cell_type": "code",
      "source": [
        "print(f'{len(dataset)      = }')\n",
        "print(f'{len(train)        = }')\n",
        "print(f'{len(val)          = }')\n",
        "print(f'{len(train_loader) = }')\n",
        "print(f'{len(val_loader)   = }')"
      ],
      "metadata": {
        "colab": {
          "base_uri": "https://localhost:8080/"
        },
        "id": "ZyihYSBP2yfK",
        "outputId": "07b000e5-ec0b-401b-918d-3150882079e2"
      },
      "execution_count": 39,
      "outputs": [
        {
          "output_type": "stream",
          "name": "stdout",
          "text": [
            "len(dataset)      = 60000\n",
            "len(train)        = 54000\n",
            "len(val)          = 6000\n",
            "len(train_loader) = 1688\n",
            "len(val_loader)   = 188\n"
          ]
        }
      ]
    },
    {
      "cell_type": "markdown",
      "source": [
        "**Rmk.** `random_split` has already gotten randomness involved,\n",
        "so we may free us from specifying `shuffle=True` in `DataLoader`.\n",
        "\n",
        "Indeed, the first image in `dataset` is neither the first in `train` or in `val`."
      ],
      "metadata": {
        "id": "9Q6x2FsCtsh4"
      }
    },
    {
      "cell_type": "code",
      "source": [
        "torch.allclose(train[0][0], dataset[0][0]), \\\n",
        "torch.allclose(val[0][0], dataset[0][0]), \\\n",
        "torch.allclose(train[0][0], train[0][0])"
      ],
      "metadata": {
        "colab": {
          "base_uri": "https://localhost:8080/"
        },
        "id": "qqAwptM0qdMM",
        "outputId": "21c112bb-e6a3-42ff-be6b-10f0ddfe9c87"
      },
      "execution_count": 40,
      "outputs": [
        {
          "output_type": "execute_result",
          "data": {
            "text/plain": [
              "(False, False, True)"
            ]
          },
          "metadata": {},
          "execution_count": 40
        }
      ]
    },
    {
      "cell_type": "code",
      "source": [
        "fig, axes = plt.subplots(1,3)\n",
        "\n",
        "axes[0].imshow(dataset[0][0].reshape((28,28)), cmap=\"gray\")\n",
        "axes[0].set_title(\"dataset[0][0]\")\n",
        "axes[1].imshow(train[0][0].reshape((28,28)), cmap=\"gray\")\n",
        "axes[1].set_title(\"train[0][0]\")\n",
        "axes[2].imshow(val[0][0].reshape((28,28)), cmap=\"gray\")\n",
        "axes[2].set_title(\"val[0][0]\")\n",
        "\n",
        "for ax in axes:\n",
        "  ax.set_xticks([])\n",
        "  ax.set_yticks([])"
      ],
      "metadata": {
        "colab": {
          "base_uri": "https://localhost:8080/",
          "height": 205
        },
        "id": "mDa2UIoGrnyc",
        "outputId": "3db2941a-4f3b-4dea-9597-91074c75c60c"
      },
      "execution_count": 41,
      "outputs": [
        {
          "output_type": "display_data",
          "data": {
            "text/plain": [
              "<Figure size 640x480 with 3 Axes>"
            ],
            "image/png": "[encoded data removed]"
          },
          "metadata": {}
        }
      ]
    },
    {
      "cell_type": "markdown",
      "source": [
        "Note that\n",
        "- The data tensors' `requires_grad` equal `False`\n",
        "- The (trainable) parameters' equal `True`"
      ],
      "metadata": {
        "id": "aKyjJkIUAme3"
      }
    },
    {
      "cell_type": "code",
      "source": [
        "print(f'{dataset[0][0].requires_grad               = }')\n",
        "print(f'{next(iter(train_loader))[1].requires_grad = }')\n",
        "print(f'{next(model.parameters()).requires_grad    = }')"
      ],
      "metadata": {
        "colab": {
          "base_uri": "https://localhost:8080/"
        },
        "id": "1pamCuv6AIzQ",
        "outputId": "49eaa0f0-cfaf-452e-d52b-833edb860cc2"
      },
      "execution_count": 42,
      "outputs": [
        {
          "output_type": "stream",
          "name": "stdout",
          "text": [
            "dataset[0][0].requires_grad               = False\n",
            "next(iter(train_loader))[1].requires_grad = False\n",
            "next(model.parameters()).requires_grad    = True\n"
          ]
        }
      ]
    },
    {
      "cell_type": "code",
      "source": [
        "print(f'{next(iter(train_loader))[0].shape = }')\n",
        "print(f'{next(iter(train_loader))[1].shape = }')"
      ],
      "metadata": {
        "colab": {
          "base_uri": "https://localhost:8080/"
        },
        "id": "wa1BxRdaFIoI",
        "outputId": "841288cc-5332-45bf-9a66-3fff25252c1c"
      },
      "execution_count": 43,
      "outputs": [
        {
          "output_type": "stream",
          "name": "stdout",
          "text": [
            "next(iter(train_loader))[0].shape = torch.Size([32, 1, 28, 28])\n",
            "next(iter(train_loader))[1].shape = torch.Size([32])\n"
          ]
        }
      ]
    },
    {
      "cell_type": "markdown",
      "source": [
        "## The Training Loop"
      ],
      "metadata": {
        "id": "CW4YlOTBdcD-"
      }
    },
    {
      "cell_type": "code",
      "source": [
        "import time\n",
        "from sklearn.metrics import accuracy_score"
      ],
      "metadata": {
        "id": "yA0waI8rz0yP"
      },
      "execution_count": 44,
      "outputs": []
    },
    {
      "cell_type": "code",
      "source": [
        "num_epochs = 5\n",
        "start = time.perf_counter()\n",
        "for epoch in range(num_epochs):\n",
        "    train_losses = []\n",
        "    train_accuracies = []\n",
        "    model.train()\n",
        "    for batch in train_loader:\n",
        "        # ipdb.set_trace()\n",
        "        # pdb.set_trace()\n",
        "        x_cpu, y_cpu = batch\n",
        "        x_device = x_cpu.to(device)\n",
        "        y_device = y_cpu.to(device)\n",
        "        bs = x_device.shape[0]\n",
        "\n",
        "        # 1. Forward\n",
        "        # x_cpu.shape equals (bs, 1, 28, 28) but the model needs (bs, 28*28)\n",
        "        logits = model(x_device.view(bs, -1))\n",
        "\n",
        "        # 2. The objective function\n",
        "        J = loss(logits, y_device)\n",
        "\n",
        "        # 3. Clean the remains of the gradient\n",
        "        for param in model.parameters():\n",
        "            param.grad = None\n",
        "        # Or alternatively. Cf.\n",
        "        # https://pytorch.org/tutorials/recipes/recipes/tuning_guide.html\n",
        "        #model.zero_grad(set_to_none=True)\n",
        "        # Or yet alternatively\n",
        "        #optimiser.zero_grad(set_to_none=True)\n",
        "\n",
        "        # 4. Accumulate the partial derivatives of J w.r.t. model.parameters()\n",
        "        J.backward()\n",
        "        # Or alternatively\n",
        "        #params.grad.add_(dJ/dparams)\n",
        "\n",
        "        # 5. Make a step\n",
        "        optimiser.step()\n",
        "        # Or alternatively\n",
        "        #with torch.no_grad():\n",
        "        #    params = params - eta * params.grad\n",
        "\n",
        "        batch_loss = J.item()\n",
        "        train_losses.append(batch_loss)\n",
        "\n",
        "        # Calculate accuracy\n",
        "        # Make sure all tensors here have requires_grad equal to False\n",
        "        y_hat_device = torch.argmax(logits.detach(), dim=-1)\n",
        "        # print(f'{y_hat_device.requires_grad = }')\n",
        "        # Actually torch.argmax() seems to always return a torch.Tensor\n",
        "        # whose requires_grad equal to False, i.e. detach() extraneous\n",
        "        # pdb.set_trace()\n",
        "        y_true = y_cpu\n",
        "        y_pred = y_hat_device.to(\"cpu\")\n",
        "        # print(f'{y_pred.requires_grad = }')\n",
        "        #batch_acc = accuracy_score(y_true, y_pred)\n",
        "        # Or alternatively\n",
        "        batch_acc = y_true.eq(y_pred).float().mean().item()\n",
        "        train_accuracies.append(batch_acc)\n",
        "\n",
        "    val_losses = []\n",
        "    val_accuracies = []\n",
        "    model.eval()\n",
        "    for batch in val_loader:\n",
        "        x_cpu, y_cpu = batch\n",
        "        x_device = x_cpu.to(device)\n",
        "        y_device = y_cpu.to(device)\n",
        "        bs = x_device.shape[0]\n",
        "\n",
        "        with torch.no_grad():\n",
        "            logits = model(x_device.view(bs, -1))\n",
        "            J = loss(logits, y_device)\n",
        "\n",
        "        batch_loss = J.item()\n",
        "        val_losses.append(batch_loss)\n",
        "\n",
        "        y_hat_device = torch.argmax(logits.detach(), dim=-1)\n",
        "        y_true = y_cpu\n",
        "        y_pred = y_hat_device.to(\"cpu\")\n",
        "        batch_acc = accuracy_score(y_true, y_pred)\n",
        "        val_accuracies.append(batch_acc)\n",
        "\n",
        "    print(f'(epoch {epoch+1}) train loss = {sum(train_losses)/len(train_losses):.4f} '\n",
        "          f'train acc = {sum(train_accuracies)/len(train_accuracies):.2f}\\n'\n",
        "          f'          val loss   = {sum(val_losses)/len(val_losses):.4f} '\n",
        "          f'val acc   = {sum(val_accuracies)/len(val_accuracies):.2f}'\n",
        "    )\n",
        "\n",
        "end = time.perf_counter()\n",
        "print(f'Took {end-start:.2f} sec to run {num_epochs} epochs')"
      ],
      "metadata": {
        "id": "tG-kVdpCqjn5",
        "colab": {
          "base_uri": "https://localhost:8080/"
        },
        "outputId": "c7664ffb-5969-487d-8111-c51161f93a77"
      },
      "execution_count": 45,
      "outputs": [
        {
          "output_type": "stream",
          "name": "stdout",
          "text": [
            "(epoch 1) train loss = 0.8394 train acc = 0.78\n",
            "          val loss   = 0.3924 val acc   = 0.89\n",
            "(epoch 2) train loss = 0.3705 train acc = 0.89\n",
            "          val loss   = 0.3150 val acc   = 0.91\n",
            "(epoch 3) train loss = 0.3075 train acc = 0.91\n",
            "          val loss   = 0.2750 val acc   = 0.92\n",
            "(epoch 4) train loss = 0.2695 train acc = 0.92\n",
            "          val loss   = 0.2457 val acc   = 0.93\n",
            "(epoch 5) train loss = 0.2384 train acc = 0.93\n",
            "          val loss   = 0.2203 val acc   = 0.93\n",
            "Took 64.19 sec to run 5 epochs\n"
          ]
        }
      ]
    },
    {
      "cell_type": "markdown",
      "source": [
        "## Q&A\n",
        "1. Can `DataLoader` be told where to put the data? (I.e. `device` as an input arg)\n",
        "    - Yes, but it seems that this is discouraged; rather, `pin_memory=True` is encouraged for CPU-to-CUDA data copying.\n",
        "2. Training `model = instantiate_our_simple_model()`\n",
        "   (i.e. with the default `num_intermediat_neurons=64`)\n",
        "   on CPU and on T4 doesn't seem to give much efficiency diff. Where is the problem? Besides,\n",
        "   when debugging for this, why raising `batch_size`\n",
        "   doesn't make GPU/CPU RAM usage increase significantly?\n",
        "    - Too small a NN model. Try with, say, `model = instantiate_our_simple_model(num_intermediate_neurons=5_000)` and you'll see the diff btw CPU and GPU efficiencies.\n",
        "    - RAM usage is insignificant even when we raise\n",
        "      `batch_size` to, say, `8192`. This is due to\n",
        "      the fact that the MNIST image is small. Indeed,\n",
        "      with the shape of `(1, 28, 28)`, a `float32` MNIST image is `28 * 28 * 4` Bytes, which is less than `4` KB. A batch of `8192` such images\n",
        "      occupies **only about `32` MB of RAM**.\n",
        "    - The following code cells are borrowed from\n",
        "      [CUDA.jl](https://cuda.juliagpu.org/stable/tutorials/introduction/)\n",
        "      and could help us confirm that GPU is working\n",
        "      properly (provided that we choose T4/V100/A100 GPU for the runtime)."
      ],
      "metadata": {
        "id": "FlbSG-WQx628"
      }
    },
    {
      "cell_type": "code",
      "source": [
        "N = 2**20\n",
        "a_cpu = torch.full((N,), fill_value=1.0, dtype=torch.float32, device=\"cpu\")\n",
        "b_cpu = torch.full((N,), fill_value=2.0, dtype=torch.float32, device=\"cpu\")\n",
        "a_cuda = torch.full((N,), fill_value=1.0, dtype=torch.float32, device=\"cuda\")\n",
        "b_cuda = torch.full((N,), fill_value=2.0, dtype=torch.float32, device=\"cuda\")"
      ],
      "metadata": {
        "id": "Bs3lsGZr7X1X"
      },
      "execution_count": null,
      "outputs": []
    },
    {
      "cell_type": "code",
      "source": [
        "%timeit a_cpu + b_cpu"
      ],
      "metadata": {
        "id": "wlPi4UXZS5Ai"
      },
      "execution_count": null,
      "outputs": []
    },
    {
      "cell_type": "code",
      "source": [
        "%timeit a_cuda + b_cuda"
      ],
      "metadata": {
        "id": "6NabhNHuS7y1"
      },
      "execution_count": null,
      "outputs": []
    },
    {
      "cell_type": "markdown",
      "source": [
        "3. Why did Alfredo emphasize on that `J.backward()` **accumulates**, instead of computes, the gradient?\n",
        "    - Note that, even before we are able to answer this, we could try to disable/comment **Step 3** in the training code while leaving the other steps unchanged\n",
        "    ```python\n",
        "    #for param in model.parameters():\n",
        "    #    param.grad = None\n",
        "    ```\n",
        "    And the training/validation metrics will soon\n",
        "    make us realize that this step is **indispensible**."
      ],
      "metadata": {
        "id": "T9VYZATCAQVE"
      }
    },
    {
      "cell_type": "code",
      "source": [],
      "metadata": {
        "id": "otd0Vy2VS2Dn"
      },
      "execution_count": null,
      "outputs": []
    },
    {
      "cell_type": "markdown",
      "source": [
        "4. Note that in this particular MNIST example, `batch_size = 32` is a lot better than a super big `batch_size = 8192`, which is the diff btw mini-batch and batch training.\n",
        "5. `ResNet` **converges faster** than the simpler model because residual mechanism kind of resolves the problem of vanishing gradient by making the route to the lower layers shallower/shorter.\n",
        "6. We could predict the loss at the beginning of our training to be $(\\ln 10)$"
      ],
      "metadata": {
        "id": "Q7q7F40-CcV7"
      }
    },
    {
      "cell_type": "code",
      "source": [
        "torch.log(torch.Tensor([10]))"
      ],
      "metadata": {
        "id": "1VishJd-CvgO",
        "colab": {
          "base_uri": "https://localhost:8080/"
        },
        "outputId": "d3abcd30-38ba-4dfd-9d4b-76b279776a16"
      },
      "execution_count": 26,
      "outputs": [
        {
          "output_type": "execute_result",
          "data": {
            "text/plain": [
              "tensor([2.3026])"
            ]
          },
          "metadata": {},
          "execution_count": 26
        }
      ]
    },
    {
      "cell_type": "code",
      "source": [],
      "metadata": {
        "id": "iQeRDK8X12zA"
      },
      "execution_count": null,
      "outputs": []
    }
  ]
}