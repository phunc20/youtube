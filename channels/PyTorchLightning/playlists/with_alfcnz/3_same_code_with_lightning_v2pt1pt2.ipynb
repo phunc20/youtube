{
  "nbformat": 4,
  "nbformat_minor": 0,
  "metadata": {
    "colab": {
      "provenance": []
    },
    "kernelspec": {
      "name": "python3",
      "display_name": "Python 3"
    },
    "language_info": {
      "name": "python"
    },
    "widgets": {
      "application/vnd.jupyter.widget-state+json": {
        "facc0da4ee364c98b059dd4e08daa3a2": {
          "model_module": "@jupyter-widgets/controls",
          "model_name": "HBoxModel",
          "model_module_version": "1.5.0",
          "state": {
            "_dom_classes": [],
            "_model_module": "@jupyter-widgets/controls",
            "_model_module_version": "1.5.0",
            "_model_name": "HBoxModel",
            "_view_count": null,
            "_view_module": "@jupyter-widgets/controls",
            "_view_module_version": "1.5.0",
            "_view_name": "HBoxView",
            "box_style": "",
            "children": [
              "IPY_MODEL_05d31ba8058b4a4899b940f5038210e2",
              "IPY_MODEL_0d39eacb4510439c8be82b63328b6bc2",
              "IPY_MODEL_3e511f234e15463e94dd8e8a9a151727"
            ],
            "layout": "IPY_MODEL_5ebfb276dcd24fd3a6a4e2b541c27253"
          }
        },
        "05d31ba8058b4a4899b940f5038210e2": {
          "model_module": "@jupyter-widgets/controls",
          "model_name": "HTMLModel",
          "model_module_version": "1.5.0",
          "state": {
            "_dom_classes": [],
            "_model_module": "@jupyter-widgets/controls",
            "_model_module_version": "1.5.0",
            "_model_name": "HTMLModel",
            "_view_count": null,
            "_view_module": "@jupyter-widgets/controls",
            "_view_module_version": "1.5.0",
            "_view_name": "HTMLView",
            "description": "",
            "description_tooltip": null,
            "layout": "IPY_MODEL_0aa35f8f637345beb16449c25af032b6",
            "placeholder": "​",
            "style": "IPY_MODEL_0b6555aef25b463ebef9f8b7017bcec8",
            "value": "Epoch 3:  55%"
          }
        },
        "0d39eacb4510439c8be82b63328b6bc2": {
          "model_module": "@jupyter-widgets/controls",
          "model_name": "FloatProgressModel",
          "model_module_version": "1.5.0",
          "state": {
            "_dom_classes": [],
            "_model_module": "@jupyter-widgets/controls",
            "_model_module_version": "1.5.0",
            "_model_name": "FloatProgressModel",
            "_view_count": null,
            "_view_module": "@jupyter-widgets/controls",
            "_view_module_version": "1.5.0",
            "_view_name": "ProgressView",
            "bar_style": "",
            "description": "",
            "description_tooltip": null,
            "layout": "IPY_MODEL_a1b8b17345ee43d98016179e6a134793",
            "max": 1688,
            "min": 0,
            "orientation": "horizontal",
            "style": "IPY_MODEL_4b101e7b8aef4fd5bfa54f20e28c0612",
            "value": 924
          }
        },
        "3e511f234e15463e94dd8e8a9a151727": {
          "model_module": "@jupyter-widgets/controls",
          "model_name": "HTMLModel",
          "model_module_version": "1.5.0",
          "state": {
            "_dom_classes": [],
            "_model_module": "@jupyter-widgets/controls",
            "_model_module_version": "1.5.0",
            "_model_name": "HTMLModel",
            "_view_count": null,
            "_view_module": "@jupyter-widgets/controls",
            "_view_module_version": "1.5.0",
            "_view_name": "HTMLView",
            "description": "",
            "description_tooltip": null,
            "layout": "IPY_MODEL_584d21916b08468bba6112d320747331",
            "placeholder": "​",
            "style": "IPY_MODEL_65795b178aa64be49101f5d3482291d3",
            "value": " 924/1688 [00:18&lt;00:15, 49.30it/s, v_num=7]"
          }
        },
        "5ebfb276dcd24fd3a6a4e2b541c27253": {
          "model_module": "@jupyter-widgets/base",
          "model_name": "LayoutModel",
          "model_module_version": "1.2.0",
          "state": {
            "_model_module": "@jupyter-widgets/base",
            "_model_module_version": "1.2.0",
            "_model_name": "LayoutModel",
            "_view_count": null,
            "_view_module": "@jupyter-widgets/base",
            "_view_module_version": "1.2.0",
            "_view_name": "LayoutView",
            "align_content": null,
            "align_items": null,
            "align_self": null,
            "border": null,
            "bottom": null,
            "display": "inline-flex",
            "flex": null,
            "flex_flow": "row wrap",
            "grid_area": null,
            "grid_auto_columns": null,
            "grid_auto_flow": null,
            "grid_auto_rows": null,
            "grid_column": null,
            "grid_gap": null,
            "grid_row": null,
            "grid_template_areas": null,
            "grid_template_columns": null,
            "grid_template_rows": null,
            "height": null,
            "justify_content": null,
            "justify_items": null,
            "left": null,
            "margin": null,
            "max_height": null,
            "max_width": null,
            "min_height": null,
            "min_width": null,
            "object_fit": null,
            "object_position": null,
            "order": null,
            "overflow": null,
            "overflow_x": null,
            "overflow_y": null,
            "padding": null,
            "right": null,
            "top": null,
            "visibility": null,
            "width": "100%"
          }
        },
        "0aa35f8f637345beb16449c25af032b6": {
          "model_module": "@jupyter-widgets/base",
          "model_name": "LayoutModel",
          "model_module_version": "1.2.0",
          "state": {
            "_model_module": "@jupyter-widgets/base",
            "_model_module_version": "1.2.0",
            "_model_name": "LayoutModel",
            "_view_count": null,
            "_view_module": "@jupyter-widgets/base",
            "_view_module_version": "1.2.0",
            "_view_name": "LayoutView",
            "align_content": null,
            "align_items": null,
            "align_self": null,
            "border": null,
            "bottom": null,
            "display": null,
            "flex": null,
            "flex_flow": null,
            "grid_area": null,
            "grid_auto_columns": null,
            "grid_auto_flow": null,
            "grid_auto_rows": null,
            "grid_column": null,
            "grid_gap": null,
            "grid_row": null,
            "grid_template_areas": null,
            "grid_template_columns": null,
            "grid_template_rows": null,
            "height": null,
            "justify_content": null,
            "justify_items": null,
            "left": null,
            "margin": null,
            "max_height": null,
            "max_width": null,
            "min_height": null,
            "min_width": null,
            "object_fit": null,
            "object_position": null,
            "order": null,
            "overflow": null,
            "overflow_x": null,
            "overflow_y": null,
            "padding": null,
            "right": null,
            "top": null,
            "visibility": null,
            "width": null
          }
        },
        "0b6555aef25b463ebef9f8b7017bcec8": {
          "model_module": "@jupyter-widgets/controls",
          "model_name": "DescriptionStyleModel",
          "model_module_version": "1.5.0",
          "state": {
            "_model_module": "@jupyter-widgets/controls",
            "_model_module_version": "1.5.0",
            "_model_name": "DescriptionStyleModel",
            "_view_count": null,
            "_view_module": "@jupyter-widgets/base",
            "_view_module_version": "1.2.0",
            "_view_name": "StyleView",
            "description_width": ""
          }
        },
        "a1b8b17345ee43d98016179e6a134793": {
          "model_module": "@jupyter-widgets/base",
          "model_name": "LayoutModel",
          "model_module_version": "1.2.0",
          "state": {
            "_model_module": "@jupyter-widgets/base",
            "_model_module_version": "1.2.0",
            "_model_name": "LayoutModel",
            "_view_count": null,
            "_view_module": "@jupyter-widgets/base",
            "_view_module_version": "1.2.0",
            "_view_name": "LayoutView",
            "align_content": null,
            "align_items": null,
            "align_self": null,
            "border": null,
            "bottom": null,
            "display": null,
            "flex": "2",
            "flex_flow": null,
            "grid_area": null,
            "grid_auto_columns": null,
            "grid_auto_flow": null,
            "grid_auto_rows": null,
            "grid_column": null,
            "grid_gap": null,
            "grid_row": null,
            "grid_template_areas": null,
            "grid_template_columns": null,
            "grid_template_rows": null,
            "height": null,
            "justify_content": null,
            "justify_items": null,
            "left": null,
            "margin": null,
            "max_height": null,
            "max_width": null,
            "min_height": null,
            "min_width": null,
            "object_fit": null,
            "object_position": null,
            "order": null,
            "overflow": null,
            "overflow_x": null,
            "overflow_y": null,
            "padding": null,
            "right": null,
            "top": null,
            "visibility": null,
            "width": null
          }
        },
        "4b101e7b8aef4fd5bfa54f20e28c0612": {
          "model_module": "@jupyter-widgets/controls",
          "model_name": "ProgressStyleModel",
          "model_module_version": "1.5.0",
          "state": {
            "_model_module": "@jupyter-widgets/controls",
            "_model_module_version": "1.5.0",
            "_model_name": "ProgressStyleModel",
            "_view_count": null,
            "_view_module": "@jupyter-widgets/base",
            "_view_module_version": "1.2.0",
            "_view_name": "StyleView",
            "bar_color": null,
            "description_width": ""
          }
        },
        "584d21916b08468bba6112d320747331": {
          "model_module": "@jupyter-widgets/base",
          "model_name": "LayoutModel",
          "model_module_version": "1.2.0",
          "state": {
            "_model_module": "@jupyter-widgets/base",
            "_model_module_version": "1.2.0",
            "_model_name": "LayoutModel",
            "_view_count": null,
            "_view_module": "@jupyter-widgets/base",
            "_view_module_version": "1.2.0",
            "_view_name": "LayoutView",
            "align_content": null,
            "align_items": null,
            "align_self": null,
            "border": null,
            "bottom": null,
            "display": null,
            "flex": null,
            "flex_flow": null,
            "grid_area": null,
            "grid_auto_columns": null,
            "grid_auto_flow": null,
            "grid_auto_rows": null,
            "grid_column": null,
            "grid_gap": null,
            "grid_row": null,
            "grid_template_areas": null,
            "grid_template_columns": null,
            "grid_template_rows": null,
            "height": null,
            "justify_content": null,
            "justify_items": null,
            "left": null,
            "margin": null,
            "max_height": null,
            "max_width": null,
            "min_height": null,
            "min_width": null,
            "object_fit": null,
            "object_position": null,
            "order": null,
            "overflow": null,
            "overflow_x": null,
            "overflow_y": null,
            "padding": null,
            "right": null,
            "top": null,
            "visibility": null,
            "width": null
          }
        },
        "65795b178aa64be49101f5d3482291d3": {
          "model_module": "@jupyter-widgets/controls",
          "model_name": "DescriptionStyleModel",
          "model_module_version": "1.5.0",
          "state": {
            "_model_module": "@jupyter-widgets/controls",
            "_model_module_version": "1.5.0",
            "_model_name": "DescriptionStyleModel",
            "_view_count": null,
            "_view_module": "@jupyter-widgets/base",
            "_view_module_version": "1.2.0",
            "_view_name": "StyleView",
            "description_width": ""
          }
        }
      }
    }
  },
  "cells": [
    {
      "cell_type": "markdown",
      "source": [
        "This notebook elaborates on\n",
        "[this YouTube video clip](https://www.youtube.com/watch?v=OMDn66kM9Qc\n",
        "),\n",
        "where Alfredo Canziani introduced the audience to PyTorch (before the transition to PyTorch Lightning)."
      ],
      "metadata": {
        "id": "1XjBwNTHvXnk"
      }
    },
    {
      "cell_type": "markdown",
      "source": [
        "## Packages and Their Configurations"
      ],
      "metadata": {
        "id": "KNiME7lyoLCd"
      }
    },
    {
      "cell_type": "markdown",
      "source": [
        "The interface of PyTorch Lightning has seemingly been updated since the publishment of the YouTube video. At the time of editing this notebook (2023/11/23), the doc suggests\n",
        "```python\n",
        "import lightning as L\n",
        "```\n",
        "and\n",
        "```bash\n",
        "pip install lightning\n",
        "```\n",
        "whereas in the video we were taught to\n",
        "```python\n",
        "import pytorch_lightning as pl\n",
        "```\n",
        "and\n",
        "```bash\n",
        "pip install pytorch-lightning\n",
        "```\n",
        "\n",
        "Since this notebook is mainly for the video, we shall **follow the old API as closely as possible**. And we **shall install `lightning`** instead of `pytorch-lightning`."
      ],
      "metadata": {
        "id": "uQGd-_T_phPq"
      }
    },
    {
      "cell_type": "code",
      "source": [
        "!pip list | grep \"torch\\|lightning\""
      ],
      "metadata": {
        "colab": {
          "base_uri": "https://localhost:8080/"
        },
        "id": "RsXTjSSnn9nl",
        "outputId": "247a9b79-a813-4164-da86-8bae5b2374fc"
      },
      "execution_count": 1,
      "outputs": [
        {
          "output_type": "stream",
          "name": "stdout",
          "text": [
            "torch                            2.1.0+cu118\n",
            "torchaudio                       2.1.0+cu118\n",
            "torchdata                        0.7.0\n",
            "torchsummary                     1.5.1\n",
            "torchtext                        0.16.0\n",
            "torchvision                      0.16.0+cu118\n"
          ]
        }
      ]
    },
    {
      "cell_type": "code",
      "source": [
        "!pip install pytorch-lightning== 2>&1 | head -n 1 | cut -d: -f3 | tr \",\" \"\\n\" | tr -d \")\""
      ],
      "metadata": {
        "colab": {
          "base_uri": "https://localhost:8080/"
        },
        "id": "9Xc_gWZ8qdyq",
        "outputId": "3cd015fb-bcdf-48a0-93f5-ea54007fdd3e"
      },
      "execution_count": 2,
      "outputs": [
        {
          "output_type": "stream",
          "name": "stdout",
          "text": [
            " 0.0.2\n",
            " 0.2\n",
            " 0.2.2\n",
            " 0.2.3\n",
            " 0.2.4\n",
            " 0.2.4.1\n",
            " 0.2.5\n",
            " 0.2.5.1\n",
            " 0.2.5.2\n",
            " 0.2.6\n",
            " 0.3\n",
            " 0.3.1\n",
            " 0.3.2\n",
            " 0.3.3\n",
            " 0.3.4\n",
            " 0.3.4.1\n",
            " 0.3.5\n",
            " 0.3.6\n",
            " 0.3.6.1\n",
            " 0.3.6.3\n",
            " 0.3.6.4\n",
            " 0.3.6.5\n",
            " 0.3.6.6\n",
            " 0.3.6.7\n",
            " 0.3.6.8\n",
            " 0.3.6.9\n",
            " 0.4.0\n",
            " 0.4.1\n",
            " 0.4.2\n",
            " 0.4.3\n",
            " 0.4.4\n",
            " 0.4.5\n",
            " 0.4.6\n",
            " 0.4.7\n",
            " 0.4.8\n",
            " 0.4.9\n",
            " 0.5.0\n",
            " 0.5.1\n",
            " 0.5.1.2\n",
            " 0.5.1.3\n",
            " 0.5.2\n",
            " 0.5.2.1\n",
            " 0.5.3\n",
            " 0.5.3.1\n",
            " 0.5.3.2\n",
            " 0.5.3.3\n",
            " 0.6.0\n",
            " 0.7.1\n",
            " 0.7.3\n",
            " 0.7.5\n",
            " 0.7.6\n",
            " 0.8.1\n",
            " 0.8.3\n",
            " 0.8.4\n",
            " 0.8.5\n",
            " 0.9.0\n",
            " 0.10.0\n",
            " 1.0.0\n",
            " 1.0.1\n",
            " 1.0.2\n",
            " 1.0.3\n",
            " 1.0.4\n",
            " 1.0.5\n",
            " 1.0.6\n",
            " 1.0.7\n",
            " 1.0.8\n",
            " 1.1.0\n",
            " 1.1.1\n",
            " 1.1.2\n",
            " 1.1.3\n",
            " 1.1.4\n",
            " 1.1.5\n",
            " 1.1.6\n",
            " 1.1.7\n",
            " 1.1.8\n",
            " 1.2.0rc0\n",
            " 1.2.0rc1\n",
            " 1.2.0rc2\n",
            " 1.2.0\n",
            " 1.2.1\n",
            " 1.2.2\n",
            " 1.2.3\n",
            " 1.2.4\n",
            " 1.2.5\n",
            " 1.2.6\n",
            " 1.2.7\n",
            " 1.2.8\n",
            " 1.2.9\n",
            " 1.2.10\n",
            " 1.3.0rc1\n",
            " 1.3.0rc2\n",
            " 1.3.0rc3\n",
            " 1.3.0\n",
            " 1.3.1\n",
            " 1.3.2\n",
            " 1.3.3\n",
            " 1.3.4\n",
            " 1.3.5\n",
            " 1.3.6\n",
            " 1.3.7\n",
            " 1.3.7.post0\n",
            " 1.3.8\n",
            " 1.4.0rc0\n",
            " 1.4.0rc1\n",
            " 1.4.0rc2\n",
            " 1.4.0\n",
            " 1.4.1\n",
            " 1.4.2\n",
            " 1.4.3\n",
            " 1.4.4\n",
            " 1.4.5\n",
            " 1.4.6\n",
            " 1.4.7\n",
            " 1.4.8\n",
            " 1.4.9\n",
            " 1.5.0rc0\n",
            " 1.5.0rc1\n",
            " 1.5.0\n",
            " 1.5.1\n",
            " 1.5.2\n",
            " 1.5.3\n",
            " 1.5.4\n",
            " 1.5.5\n",
            " 1.5.6\n",
            " 1.5.7\n",
            " 1.5.8\n",
            " 1.5.9\n",
            " 1.5.10\n",
            " 1.6.0rc0\n",
            " 1.6.0rc1\n",
            " 1.6.0\n",
            " 1.6.1\n",
            " 1.6.2\n",
            " 1.6.3\n",
            " 1.6.4\n",
            " 1.6.5\n",
            " 1.7.0rc0\n",
            " 1.7.0rc1\n",
            " 1.7.0\n",
            " 1.7.1\n",
            " 1.7.2\n",
            " 1.7.3\n",
            " 1.7.4\n",
            " 1.7.5\n",
            " 1.7.6\n",
            " 1.7.7\n",
            " 1.8.0rc0\n",
            " 1.8.0rc1\n",
            " 1.8.0rc2\n",
            " 1.8.0\n",
            " 1.8.0.post1\n",
            " 1.8.1\n",
            " 1.8.2\n",
            " 1.8.3\n",
            " 1.8.3.post0\n",
            " 1.8.3.post1\n",
            " 1.8.3.post2\n",
            " 1.8.4\n",
            " 1.8.4.post0\n",
            " 1.8.5\n",
            " 1.8.5.post0\n",
            " 1.8.6\n",
            " 1.9.0rc0\n",
            " 1.9.0\n",
            " 1.9.1\n",
            " 1.9.2\n",
            " 1.9.3\n",
            " 1.9.4\n",
            " 1.9.5\n",
            " 2.0.0rc0\n",
            " 2.0.0\n",
            " 2.0.1\n",
            " 2.0.1.post0\n",
            " 2.0.2\n",
            " 2.0.3\n",
            " 2.0.4\n",
            " 2.0.5\n",
            " 2.0.6\n",
            " 2.0.7\n",
            " 2.0.8\n",
            " 2.0.9\n",
            " 2.0.9.post0\n",
            " 2.1.0rc0\n",
            " 2.1.0rc1\n",
            " 2.1.0\n",
            " 2.1.1\n",
            " 2.1.2\n"
          ]
        }
      ]
    },
    {
      "cell_type": "code",
      "source": [
        "!pip install lightning== 2>&1 | head -n 1 | cut -d: -f3 | tr \",\" \"\\n\" | tr -d \")\""
      ],
      "metadata": {
        "colab": {
          "base_uri": "https://localhost:8080/"
        },
        "id": "T-q8w2-Rqi4f",
        "outputId": "93006832-0686-4369-b9ec-389b6ea8d36e"
      },
      "execution_count": 3,
      "outputs": [
        {
          "output_type": "stream",
          "name": "stdout",
          "text": [
            " 1.8.0rc1\n",
            " 1.8.0rc2\n",
            " 1.8.0\n",
            " 1.8.0.post1\n",
            " 1.8.1\n",
            " 1.8.2\n",
            " 1.8.3\n",
            " 1.8.3.post0\n",
            " 1.8.3.post1\n",
            " 1.8.3.post2\n",
            " 1.8.4\n",
            " 1.8.4.post0\n",
            " 1.8.5\n",
            " 1.8.5.post0\n",
            " 1.8.6\n",
            " 1.9.0rc0\n",
            " 1.9.0\n",
            " 1.9.1\n",
            " 1.9.2\n",
            " 1.9.3\n",
            " 1.9.4\n",
            " 1.9.5\n",
            " 2.0.0rc0\n",
            " 2.0.0\n",
            " 2.0.1\n",
            " 2.0.1.post0\n",
            " 2.0.2\n",
            " 2.0.3\n",
            " 2.0.4\n",
            " 2.0.5\n",
            " 2.0.6\n",
            " 2.0.7\n",
            " 2.0.8\n",
            " 2.0.9\n",
            " 2.0.9.post0\n",
            " 2.1.0rc0\n",
            " 2.1.0rc1\n",
            " 2.1.0\n",
            " 2.1.1\n",
            " 2.1.2\n",
            " 2022.6.15\n",
            " 2022.6.15.post1\n",
            " 2022.6.15.post2\n",
            " 2022.7.18\n",
            " 2022.8.2\n",
            " 2022.8.9\n",
            " 2022.8.17\n",
            " 2022.9.8\n",
            " 2022.9.22\n",
            " 2022.10.7\n",
            " 2022.10.20\n",
            " 2022.10.25\n"
          ]
        }
      ]
    },
    {
      "cell_type": "code",
      "source": [
        "!pip install -q lightning"
      ],
      "metadata": {
        "id": "yqiQvbG9bBVi"
      },
      "execution_count": 29,
      "outputs": []
    },
    {
      "cell_type": "code",
      "source": [
        "!pip list | grep \"torch\\|lightning\""
      ],
      "metadata": {
        "colab": {
          "base_uri": "https://localhost:8080/"
        },
        "id": "aTeWrHfcbbA9",
        "outputId": "53698d03-552a-43a5-8549-a711cfa88866"
      },
      "execution_count": 5,
      "outputs": [
        {
          "output_type": "stream",
          "name": "stdout",
          "text": [
            "lightning                        2.1.2\n",
            "lightning-utilities              0.10.0\n",
            "pytorch-lightning                2.1.2\n",
            "torch                            2.1.0+cu118\n",
            "torchaudio                       2.1.0+cu118\n",
            "torchdata                        0.7.0\n",
            "torchmetrics                     1.2.0\n",
            "torchsummary                     1.5.1\n",
            "torchtext                        0.16.0\n",
            "torchvision                      0.16.0+cu118\n"
          ]
        }
      ]
    },
    {
      "cell_type": "markdown",
      "source": [
        "Note that `pip install lightning` seems to install `pytorch-lightning` as well (as shown by the above cell)."
      ],
      "metadata": {
        "id": "xgjoU8_or3s3"
      }
    },
    {
      "cell_type": "code",
      "execution_count": 6,
      "metadata": {
        "id": "zoNrCktFAOcO"
      },
      "outputs": [],
      "source": [
        "import pdb\n",
        "\n",
        "import matplotlib.pyplot as plt\n",
        "import torch\n",
        "import torchvision\n",
        "from torch import nn\n",
        "from torch.nn import functional as F\n",
        "from torch.utils.data import random_split, DataLoader"
      ]
    },
    {
      "cell_type": "markdown",
      "source": [
        "As of November 2023, there exists no longer `pytorch_lightning.metrics` module; instead, try with `torchmetrics`.\n",
        "- <https://lightning.ai/docs/pytorch/stable/ecosystem/metrics.html>\n",
        "- <https://torchmetrics.readthedocs.io/en/stable/pages/lightning.html>\n"
      ],
      "metadata": {
        "id": "91QLI1GmxIEY"
      }
    },
    {
      "cell_type": "code",
      "source": [
        "import pytorch_lightning as pl\n",
        "import lightning as L\n",
        "# from pytorch_lightning.metrics.functional import accuracy\n",
        "from torchmetrics.functional import accuracy"
      ],
      "metadata": {
        "id": "35B4J_IHcIun"
      },
      "execution_count": 30,
      "outputs": []
    },
    {
      "cell_type": "code",
      "source": [
        "L is pl, L == pl"
      ],
      "metadata": {
        "colab": {
          "base_uri": "https://localhost:8080/"
        },
        "id": "aZJiHowLcQkA",
        "outputId": "7b20897b-d613-4667-f840-9ed133a976dc"
      },
      "execution_count": 8,
      "outputs": [
        {
          "output_type": "execute_result",
          "data": {
            "text/plain": [
              "(False, False)"
            ]
          },
          "metadata": {},
          "execution_count": 8
        }
      ]
    },
    {
      "cell_type": "markdown",
      "source": [
        "😮 Wow!"
      ],
      "metadata": {
        "id": "rzbXWlfTcTSt"
      }
    },
    {
      "cell_type": "code",
      "source": [
        "L.LightningModule is pl.LightningModule, L.LightningModule == pl.LightningModule"
      ],
      "metadata": {
        "colab": {
          "base_uri": "https://localhost:8080/"
        },
        "id": "PJHylJvncjH3",
        "outputId": "68ea42b1-a72b-4f70-d1d4-8c28bf089012"
      },
      "execution_count": 9,
      "outputs": [
        {
          "output_type": "execute_result",
          "data": {
            "text/plain": [
              "(False, False)"
            ]
          },
          "metadata": {},
          "execution_count": 9
        }
      ]
    },
    {
      "cell_type": "code",
      "source": [
        "plt.style.use(\"dark_background\")"
      ],
      "metadata": {
        "id": "zTcImXeAn8u0"
      },
      "execution_count": 10,
      "outputs": []
    },
    {
      "cell_type": "markdown",
      "source": [
        "## Model"
      ],
      "metadata": {
        "id": "k-Xd954UoPCs"
      }
    },
    {
      "cell_type": "markdown",
      "source": [
        "The progress bar behaviour has also been changed since the release of the YouTube video.\n",
        "- <https://lightning.ai/docs/pytorch/stable/extensions/logging.html>"
      ],
      "metadata": {
        "id": "ezk2foe21qs_"
      }
    },
    {
      "cell_type": "code",
      "source": [
        "class ResNet(pl.LightningModule):\n",
        "    def __init__(self, *,\n",
        "                 num_intermediate_neurons=64, dropout_proba=0.0,\n",
        "                 num_classes=10,\n",
        "    ):\n",
        "        super().__init__()\n",
        "        self.num_classes = num_classes\n",
        "        self.h1 = nn.Linear(28*28, num_intermediate_neurons)\n",
        "        self.h2 = nn.Linear(num_intermediate_neurons, num_intermediate_neurons)\n",
        "        self.h3 = nn.Linear(num_intermediate_neurons, self.num_classes)\n",
        "        self.dropout = nn.Dropout(dropout_proba)\n",
        "\n",
        "        self.loss = nn.CrossEntropyLoss()\n",
        "\n",
        "    def forward(self, x):\n",
        "        h1 = self.h1(x)\n",
        "        a1 = F.relu(h1)\n",
        "        h2 = self.h2(a1)\n",
        "        a2 = F.relu(h2)\n",
        "        d2 = self.dropout(a1 + a2)\n",
        "        logits = self.h3(d2)\n",
        "        return logits\n",
        "\n",
        "    def configure_optimizers(self):\n",
        "        optimizer = torch.optim.SGD(self.parameters(), lr=1e-2)\n",
        "        return optimizer\n",
        "\n",
        "    def training_step(self, batch, batch_idx):\n",
        "        # In pl, we don't have to worry much about putting the tensor on CPU/GPU\n",
        "        x, y = batch\n",
        "        bs = x.shape[0]\n",
        "\n",
        "        # x.shape equals (bs, 1, 28, 28) but the model needs (bs, 28*28)\n",
        "        logits = self(x.view(bs, -1))\n",
        "\n",
        "        J = self.loss(logits, y)\n",
        "        acc = accuracy(logits, y, task=\"multiclass\", num_classes=self.num_classes)\n",
        "        pbar = {\n",
        "            \"train_acc\": acc,\n",
        "        }\n",
        "        # self.log\n",
        "\n",
        "        return {\n",
        "            \"loss\": J,\n",
        "            \"progress_bar\": pbar,\n",
        "        }\n",
        "\n",
        "    def validation_step(self, batch, batch_idx):\n",
        "        results = self.training_step(batch, batch_idx)\n",
        "        return results\n",
        "\n",
        "    def on_validation_epoch_end(self) -> None:\n",
        "        return super().on_validation_epoch_end()\n",
        "\n",
        "    def train_dataloader(self):\n",
        "        dataset = torchvision.datasets.MNIST(\n",
        "            \"data\",\n",
        "            train=True,\n",
        "            transform=torchvision.transforms.ToTensor(),\n",
        "            download=True,\n",
        "        )\n",
        "        num_val = int(len(dataset)*0.1)\n",
        "        num_train = len(dataset) - num_val\n",
        "\n",
        "        # For reproducibility\n",
        "        rng_generator = torch.Generator().manual_seed(42)\n",
        "\n",
        "        train, val = random_split(\n",
        "            dataset,\n",
        "            lengths=[num_train, num_val],\n",
        "            generator=rng_generator,\n",
        "        )\n",
        "        batch_size = 32\n",
        "\n",
        "        num_workers = 2\n",
        "        train_loader = DataLoader(\n",
        "            train, batch_size=batch_size,\n",
        "            num_workers=num_workers,\n",
        "            pin_memory=True,\n",
        "        )\n",
        "        val_loader = DataLoader(\n",
        "            val, batch_size=batch_size,\n",
        "            num_workers=num_workers,\n",
        "            pin_memory=True,\n",
        "        )\n",
        "        return train_loader"
      ],
      "metadata": {
        "id": "Bc3M6VPEsWQH"
      },
      "execution_count": 41,
      "outputs": []
    },
    {
      "cell_type": "code",
      "source": [
        "model = ResNet()\n",
        "model"
      ],
      "metadata": {
        "colab": {
          "base_uri": "https://localhost:8080/"
        },
        "id": "OdSIEolFrWhU",
        "outputId": "a79096a7-bc86-4438-9964-82ee9c7314d9"
      },
      "execution_count": 42,
      "outputs": [
        {
          "output_type": "execute_result",
          "data": {
            "text/plain": [
              "ResNet(\n",
              "  (h1): Linear(in_features=784, out_features=64, bias=True)\n",
              "  (h2): Linear(in_features=64, out_features=64, bias=True)\n",
              "  (h3): Linear(in_features=64, out_features=10, bias=True)\n",
              "  (dropout): Dropout(p=0.0, inplace=False)\n",
              "  (loss): CrossEntropyLoss()\n",
              ")"
            ]
          },
          "metadata": {},
          "execution_count": 42
        }
      ]
    },
    {
      "cell_type": "code",
      "source": [
        "trainer = pl.Trainer(\n",
        "    # progress_bar_refresh_rate=20,\n",
        "    max_epochs=5,  # default: 1000\n",
        "    #gpus=1,\n",
        ")\n",
        "trainer.fit(model)"
      ],
      "metadata": {
        "colab": {
          "base_uri": "https://localhost:8080/",
          "height": 414,
          "referenced_widgets": [
            "facc0da4ee364c98b059dd4e08daa3a2",
            "05d31ba8058b4a4899b940f5038210e2",
            "0d39eacb4510439c8be82b63328b6bc2",
            "3e511f234e15463e94dd8e8a9a151727",
            "5ebfb276dcd24fd3a6a4e2b541c27253",
            "0aa35f8f637345beb16449c25af032b6",
            "0b6555aef25b463ebef9f8b7017bcec8",
            "a1b8b17345ee43d98016179e6a134793",
            "4b101e7b8aef4fd5bfa54f20e28c0612",
            "584d21916b08468bba6112d320747331",
            "65795b178aa64be49101f5d3482291d3"
          ]
        },
        "id": "z-IIjat2siq9",
        "outputId": "772e853c-fdeb-4db8-b215-2cf23cf8665f"
      },
      "execution_count": 45,
      "outputs": [
        {
          "output_type": "stream",
          "name": "stderr",
          "text": [
            "INFO: GPU available: False, used: False\n",
            "INFO:lightning.pytorch.utilities.rank_zero:GPU available: False, used: False\n",
            "INFO: TPU available: False, using: 0 TPU cores\n",
            "INFO:lightning.pytorch.utilities.rank_zero:TPU available: False, using: 0 TPU cores\n",
            "INFO: IPU available: False, using: 0 IPUs\n",
            "INFO:lightning.pytorch.utilities.rank_zero:IPU available: False, using: 0 IPUs\n",
            "INFO: HPU available: False, using: 0 HPUs\n",
            "INFO:lightning.pytorch.utilities.rank_zero:HPU available: False, using: 0 HPUs\n",
            "INFO:pytorch_lightning.callbacks.model_summary:\n",
            "  | Name    | Type             | Params\n",
            "---------------------------------------------\n",
            "0 | h1      | Linear           | 50.2 K\n",
            "1 | h2      | Linear           | 4.2 K \n",
            "2 | h3      | Linear           | 650   \n",
            "3 | dropout | Dropout          | 0     \n",
            "4 | loss    | CrossEntropyLoss | 0     \n",
            "---------------------------------------------\n",
            "55.1 K    Trainable params\n",
            "0         Non-trainable params\n",
            "55.1 K    Total params\n",
            "0.220     Total estimated model params size (MB)\n"
          ]
        },
        {
          "output_type": "display_data",
          "data": {
            "text/plain": [
              "Training: |          | 0/? [00:00<?, ?it/s]"
            ],
            "application/vnd.jupyter.widget-view+json": {
              "version_major": 2,
              "version_minor": 0,
              "model_id": "facc0da4ee364c98b059dd4e08daa3a2"
            }
          },
          "metadata": {}
        }
      ]
    },
    {
      "cell_type": "markdown",
      "source": [
        "The logs and model checkpoints are saved under `./lightning_logs/`"
      ],
      "metadata": {
        "id": "kXI8fp_Ftum2"
      }
    },
    {
      "cell_type": "code",
      "source": [
        "!ls lightning_logs"
      ],
      "metadata": {
        "colab": {
          "base_uri": "https://localhost:8080/"
        },
        "id": "pSG-O5kut1Rs",
        "outputId": "f57d0f33-1f86-48c8-a6c8-df549075c7df"
      },
      "execution_count": 21,
      "outputs": [
        {
          "output_type": "stream",
          "name": "stdout",
          "text": [
            "version_0  version_1  version_2\n"
          ]
        }
      ]
    },
    {
      "cell_type": "code",
      "source": [
        "!apt install tree"
      ],
      "metadata": {
        "id": "YzkgG28cvzsL"
      },
      "execution_count": null,
      "outputs": []
    },
    {
      "cell_type": "code",
      "source": [
        "!tree lightning_logs"
      ],
      "metadata": {
        "colab": {
          "base_uri": "https://localhost:8080/"
        },
        "id": "BLsYZC9FviDK",
        "outputId": "3f91b943-6613-4c0a-f3b3-5d1c93a68546"
      },
      "execution_count": 25,
      "outputs": [
        {
          "output_type": "stream",
          "name": "stdout",
          "text": [
            "Reading package lists...\n",
            "Building dependency tree...\n",
            "Reading state information...\n",
            "The following NEW packages will be installed:\n",
            "  tree\n",
            "0 upgraded, 1 newly installed, 0 to remove and 11 not upgraded.\n",
            "Need to get 47.9 kB of archives.\n",
            "After this operation, 116 kB of additional disk space will be used.\n",
            "Get:1 http://archive.ubuntu.com/ubuntu jammy/universe amd64 tree amd64 2.0.2-1 [47.9 kB]\n",
            "Fetched 47.9 kB in 0s (122 kB/s)\n",
            "Selecting previously unselected package tree.\r\n",
            "(Reading database ... \r(Reading database ... 5%\r(Reading database ... 10%\r(Reading database ... 15%\r(Reading database ... 20%\r(Reading database ... 25%\r(Reading database ... 30%\r(Reading database ... 35%\r(Reading database ... 40%\r(Reading database ... 45%\r(Reading database ... 50%\r(Reading database ... 55%\r(Reading database ... 60%\r(Reading database ... 65%\r(Reading database ... 70%\r(Reading database ... 75%\r(Reading database ... 80%\r(Reading database ... 85%\r(Reading database ... 90%\r(Reading database ... 95%\r(Reading database ... 100%\r(Reading database ... 120880 files and directories currently installed.)\r\n",
            "Preparing to unpack .../tree_2.0.2-1_amd64.deb ...\r\n",
            "Unpacking tree (2.0.2-1) ...\r\n",
            "Setting up tree (2.0.2-1) ...\r\n",
            "Processing triggers for man-db (2.10.2-1) ...\r\n",
            "lightning_logs\n",
            "├── version_0\n",
            "│   └── events.out.tfevents.1701154290.a2c779636744.384.0\n",
            "├── version_1\n",
            "│   ├── checkpoints\n",
            "│   │   └── epoch=6-step=11816.ckpt\n",
            "│   ├── events.out.tfevents.1701154352.a2c779636744.384.1\n",
            "│   └── hparams.yaml\n",
            "└── version_2\n",
            "    ├── checkpoints\n",
            "    │   └── epoch=4-step=8440.ckpt\n",
            "    ├── events.out.tfevents.1701154692.a2c779636744.384.2\n",
            "    └── hparams.yaml\n",
            "\n",
            "5 directories, 7 files\n"
          ]
        },
        {
          "output_type": "stream",
          "name": "stderr",
          "text": [
            "\n",
            "WARNING: apt does not have a stable CLI interface. Use with caution in scripts.\n",
            "\n"
          ]
        }
      ]
    }
  ]
}